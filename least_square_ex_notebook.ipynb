{
 "cells": [
  {
   "cell_type": "code",
   "execution_count": 17,
   "metadata": {},
   "outputs": [],
   "source": [
    "import numpy as np\n",
    "from scipy import optimize\n",
    "import matplotlib.pyplot as plt\n",
    "import pandas as pd\n"
   ]
  },
  {
   "cell_type": "code",
   "execution_count": 18,
   "metadata": {},
   "outputs": [],
   "source": [
    "data = pd.read_csv('data/data2.txt', sep=\" \", header=None)"
   ]
  },
  {
   "cell_type": "markdown",
   "metadata": {},
   "source": [
    "This is the function we need to compare\n",
    "$$\\rho_{cal}(x,t) = \\rho_0 \\left(1 - \\text{erf} \\frac{x}{2 \\sqrt{D t}} \\right)$$\n",
    "\n",
    "Note that the Gaussian error function can be approximate:\n",
    "\\begin{aligned}\\operatorname {erf} z&={\\frac {2}{\\sqrt {\\pi }}}\\sum _{n=0}^{\\infty }{\\frac {(-1)^{n}z^{2n+1}}{n!(2n+1)}}\\\\[6pt]&={\\frac {2}{\\sqrt {\\pi }}}\\left(z-{\\frac {z^{3}}{3}}+{\\frac {z^{5}}{10}}-{\\frac {z^{7}}{42}}+{\\frac {z^{9}}{216}}-\\cdots \\right)\\end{aligned}\n",
    "\n",
    "We can approximate our original function to:\n",
    "$$\\rho_{cal}(x,t) = \\rho_0 \\left[1 - {\\frac {2}{\\sqrt {\\pi }}}\\left(\\frac{x}{2 \\sqrt{D t}}-{\\frac {x^{3}}{6(D t)^{3/2}}}+\\cdots \\right) \\right]$$\n",
    "\n",
    "We need to formulate our problem in a linear form $y = Ap$, where $A = [[x \\; 1]]$ and $p = [[m], [c]]$.  \n",
    "\n",
    "Let us take only the first term of the expansion and simplify:\n",
    "$$\\frac{\\rho_{cal}(x,t)}{p_0} = -\\frac{x}{\\sqrt {\\pi D t}} +1 $$\n",
    "Therefore:\n",
    "\\begin{gather}\n",
    "y =  \\frac{\\rho_{cal}(x,t)}{p_0} \\\\\n",
    "m =   - \\frac{1}{\\sqrt {\\pi D t}} \\\\\n",
    "c = 1\n",
    "\\end{gather}\n",
    "Which gives us $D = \\frac{1}{\\pi m^2 t}$"
   ]
  },
  {
   "cell_type": "code",
   "execution_count": 30,
   "metadata": {},
   "outputs": [],
   "source": [
    "X = data[0].values\n",
    "# Y = data[1].values\n",
    "Y = data[2].values"
   ]
  },
  {
   "cell_type": "code",
   "execution_count": 31,
   "metadata": {},
   "outputs": [
    {
     "name": "stdout",
     "output_type": "stream",
     "text": [
      "[[ 1.  1.]\n",
      " [ 3.  1.]\n",
      " [ 5.  1.]\n",
      " [ 7.  1.]\n",
      " [ 9.  1.]\n",
      " [11.  1.]\n",
      " [13.  1.]\n",
      " [15.  1.]\n",
      " [17.  1.]]\n"
     ]
    }
   ],
   "source": [
    "A = np.vstack([X, np.ones(len(X))]).T\n",
    "print(A)"
   ]
  },
  {
   "cell_type": "code",
   "execution_count": 32,
   "metadata": {},
   "outputs": [
    {
     "name": "stdout",
     "output_type": "stream",
     "text": [
      "[[2.99]\n",
      " [2.64]\n",
      " [2.98]\n",
      " [2.7 ]\n",
      " [1.92]\n",
      " [1.41]\n",
      " [1.14]\n",
      " [0.6 ]\n",
      " [0.33]]\n"
     ]
    }
   ],
   "source": [
    "Y = Y[:, np.newaxis]\n",
    "print(Y)"
   ]
  },
  {
   "cell_type": "code",
   "execution_count": 33,
   "metadata": {},
   "outputs": [
    {
     "name": "stdout",
     "output_type": "stream",
     "text": [
      "[[-0.18108333]\n",
      " [ 3.48641667]]\n"
     ]
    }
   ],
   "source": [
    "alpha = (np.dot((np.dot(np.linalg.inv(np.dot(A.T,A)),A.T)),Y))\n",
    "print(alpha)"
   ]
  },
  {
   "cell_type": "code",
   "execution_count": 34,
   "metadata": {},
   "outputs": [
    {
     "data": {
      "image/png": "[encoded data removed]",
      "text/plain": [
       "<Figure size 720x576 with 1 Axes>"
      ]
     },
     "metadata": {
      "needs_background": "light"
     },
     "output_type": "display_data"
    }
   ],
   "source": [
    "# plot the results\n",
    "plt.figure(figsize = (10,8))\n",
    "plt.plot(X, Y, 'b.')\n",
    "plt.plot(X, alpha[0]*X + alpha[1], 'r')\n",
    "plt.xlabel('x')\n",
    "plt.ylabel('y')\n",
    "plt.show()"
   ]
  },
  {
   "cell_type": "code",
   "execution_count": 29,
   "metadata": {},
   "outputs": [
    {
     "name": "stdout",
     "output_type": "stream",
     "text": [
      "[[-0.09875   ]\n",
      " [ 1.38097222]]\n"
     ]
    }
   ],
   "source": [
    "alpha = np.linalg.lstsq(A, Y, rcond=None)[0]\n",
    "print(alpha)"
   ]
  },
  {
   "cell_type": "code",
   "execution_count": null,
   "metadata": {},
   "outputs": [],
   "source": []
  }
 ],
 "metadata": {
  "kernelspec": {
   "display_name": "Python 3",
   "language": "python",
   "name": "python3"
  },
  "language_info": {
   "codemirror_mode": {
    "name": "ipython",
    "version": 3
   },
   "file_extension": ".py",
   "mimetype": "text/x-python",
   "name": "python",
   "nbconvert_exporter": "python",
   "pygments_lexer": "ipython3",
   "version": "3.8.5"
  }
 },
 "nbformat": 4,
 "nbformat_minor": 4
}
