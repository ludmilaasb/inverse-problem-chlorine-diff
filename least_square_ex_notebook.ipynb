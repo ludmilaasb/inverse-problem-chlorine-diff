{
 "cells": [
  {
   "cell_type": "code",
   "execution_count": 10,
   "metadata": {},
   "outputs": [],
   "source": [
    "import numpy as np\n",
    "from scipy import optimize\n",
    "import matplotlib.pyplot as plt\n",
    "import pandas as pd\n"
   ]
  },
  {
   "cell_type": "code",
   "execution_count": 11,
   "metadata": {},
   "outputs": [],
   "source": [
    "data = pd.read_csv('data/data2.txt', sep=\" \", header=None)"
   ]
  },
  {
   "cell_type": "markdown",
   "metadata": {},
   "source": [
    "This is the function we need to compare\n",
    "$$\\rho_{cal}(x,t) = \\rho_0 \\left(1 - \\text{erf} \\frac{x}{2 \\sqrt{D t}} \\right)$$\n",
    "\n",
    "Note that the Gaussian error function can be approximate:\n",
    "\\begin{aligned}\\operatorname {erf} z&={\\frac {2}{\\sqrt {\\pi }}}\\sum _{n=0}^{\\infty }{\\frac {(-1)^{n}z^{2n+1}}{n!(2n+1)}}\\\\[6pt]&={\\frac {2}{\\sqrt {\\pi }}}\\left(z-{\\frac {z^{3}}{3}}+{\\frac {z^{5}}{10}}-{\\frac {z^{7}}{42}}+{\\frac {z^{9}}{216}}-\\cdots \\right)\\end{aligned}\n",
    "\n",
    "We can approximate our original function to:\n",
    "$$\\rho_{cal}(x,t) = \\rho_0 \\left[1 - {\\frac {2}{\\sqrt {\\pi }}}\\left(\\frac{x}{2 \\sqrt{D t}}-{\\frac {x^{3}}{6(D t)^{3/2}}}+\\cdots \\right) \\right]$$\n",
    "\n",
    "We need to formulate our problem in a linear form $y = Ap$, where $A = [[x \\; 1]]$ and $p = [[m], [c]]$.  \n",
    "\n",
    "Let us take only the first term of the expansion and simplify:\n",
    "$$\\rho_{cal} = - x \\frac{\\rho_0}{\\sqrt {\\pi D t}} +\\rho_0 $$\n",
    "Therefore:\n",
    "\\begin{gather}\n",
    "y =  \\rho_{cal}(x,t) \\\\\n",
    "m =   - \\frac{\\rho_0}{\\sqrt {\\pi D t}} \\\\\n",
    "c = \\rho_0\n",
    "\\end{gather}\n",
    "Which gives us $D = \\frac{\\rho_0^2}{\\pi m^2 t}$"
   ]
  },
  {
   "cell_type": "code",
   "execution_count": 12,
   "metadata": {},
   "outputs": [
    {
     "name": "stdout",
     "output_type": "stream",
     "text": [
      "[2.99 2.64 2.98 2.7  1.92 1.41 1.14 0.6  0.33]\n"
     ]
    }
   ],
   "source": [
    "# idependent \n",
    "X = data[0].values\n",
    "\n",
    "#dependent variables, here we can choose if we wanna test for 3 or 6 months.\n",
    "# Y = data[1].values \n",
    "Y = data[2].values\n",
    "\n",
    "print(Y)"
   ]
  },
  {
   "cell_type": "markdown",
   "metadata": {},
   "source": [
    "For the sake of convinence, let us make a function to expand the gaussian error function, just in case someone wants to check it. So our $A$ matrix would be something like:\n",
    "$$A = [[x \\; x^3 \\; x^5 \\cdots  1]]$$"
   ]
  },
  {
   "cell_type": "code",
   "execution_count": 13,
   "metadata": {},
   "outputs": [
    {
     "name": "stdout",
     "output_type": "stream",
     "text": [
      "[[1.000000e+00 1.000000e+00 1.000000e+00 1.000000e+00]\n",
      " [3.000000e+00 2.700000e+01 2.430000e+02 1.000000e+00]\n",
      " [5.000000e+00 1.250000e+02 3.125000e+03 1.000000e+00]\n",
      " [7.000000e+00 3.430000e+02 1.680700e+04 1.000000e+00]\n",
      " [9.000000e+00 7.290000e+02 5.904900e+04 1.000000e+00]\n",
      " [1.100000e+01 1.331000e+03 1.610510e+05 1.000000e+00]\n",
      " [1.300000e+01 2.197000e+03 3.712930e+05 1.000000e+00]\n",
      " [1.500000e+01 3.375000e+03 7.593750e+05 1.000000e+00]\n",
      " [1.700000e+01 4.913000e+03 1.419857e+06 1.000000e+00]]\n"
     ]
    }
   ],
   "source": [
    "def A_erf_pol_exp(X, num_ex):\n",
    "    A = []\n",
    "    for i in range(num_ex):\n",
    "        A.append(X**(2*i+1))\n",
    "    A.append(np.ones(len(X)))\n",
    "    return np.vstack(A).T\n",
    "\n",
    "num_terms = 3\n",
    "A = A_erf_pol_exp(X, num_terms)\n",
    "print(A)"
   ]
  },
  {
   "cell_type": "code",
   "execution_count": 14,
   "metadata": {},
   "outputs": [],
   "source": [
    "Y = Y[:, np.newaxis]"
   ]
  },
  {
   "cell_type": "code",
   "execution_count": 15,
   "metadata": {},
   "outputs": [
    {
     "name": "stdout",
     "output_type": "stream",
     "text": [
      "[[-2.20705926e-03]\n",
      " [-1.34786602e-03]\n",
      " [ 2.88240132e-06]\n",
      " [ 2.93578712e+00]]\n",
      "It seems that the answer is D = 0.023129259349525897 and rho=2.9357871212121234\n"
     ]
    }
   ],
   "source": [
    "p  = (np.dot((np.dot(np.linalg.inv(np.dot(A.T,A)),A.T)),Y))\n",
    "print(p)\n",
    "\n",
    "num_monts = 3.2\n",
    "month2seconds = num_monts*30*24*60*60\n",
    "\n",
    "D = p[-1][0]/(np.pi*(p[0][0]**2)*month2seconds)\n",
    "print('It seems that the answer is D = {} and rho={}'.format(D,p[-1][0]))"
   ]
  },
  {
   "cell_type": "code",
   "execution_count": 16,
   "metadata": {},
   "outputs": [
    {
     "data": {
      "image/png": "[encoded data removed]",
      "text/plain": [
       "<Figure size 720x576 with 1 Axes>"
      ]
     },
     "metadata": {
      "needs_background": "light"
     },
     "output_type": "display_data"
    }
   ],
   "source": [
    "# plot the results\n",
    "plt.figure(figsize = (10,8))\n",
    "plt.plot(X, Y, 'b.')\n",
    "plt.plot(X, np.dot(A,p), 'r')\n",
    "plt.xlabel('x')\n",
    "plt.ylabel('y')\n",
    "plt.show()"
   ]
  },
  {
   "cell_type": "markdown",
   "metadata": {},
   "source": [
    "Actually, there is a numpy function that does everythig, but this should be didatic, right?"
   ]
  },
  {
   "cell_type": "code",
   "execution_count": null,
   "metadata": {},
   "outputs": [],
   "source": [
    "p = np.linalg.lstsq(A, Y, rcond=None)[0]\n",
    "print(p)"
   ]
  },
  {
   "cell_type": "code",
   "execution_count": null,
   "metadata": {},
   "outputs": [],
   "source": []
  }
 ],
 "metadata": {
  "kernelspec": {
   "display_name": "Python 3",
   "language": "python",
   "name": "python3"
  },
  "language_info": {
   "codemirror_mode": {
    "name": "ipython",
    "version": 3
   },
   "file_extension": ".py",
   "mimetype": "text/x-python",
   "name": "python",
   "nbconvert_exporter": "python",
   "pygments_lexer": "ipython3",
   "version": "3.8.5"
  }
 },
 "nbformat": 4,
 "nbformat_minor": 4
}
